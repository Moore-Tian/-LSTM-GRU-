{
 "cells": [
  {
   "cell_type": "code",
   "execution_count": 1,
   "metadata": {},
   "outputs": [
    {
     "name": "stdout",
     "output_type": "stream",
     "text": [
      "The code uses a GPU\n"
     ]
    }
   ],
   "source": [
    "import torch\n",
    "import torch.nn\n",
    "from modle import *\n",
    "from utils import *\n",
    "from vocab import *\n",
    "\n",
    "file_path = \"dataset/poetryFromTang.txt\"\n",
    "\n",
    "char_list = get_dataset(file_path)\n",
    "\n",
    "vocab = Vocab(char_list)\n",
    "\n",
    "data_set = data_process(file_path, vocab)\n",
    "\n",
    "if torch.cuda.is_available():\n",
    "    device = torch.device(\"cuda\")\n",
    "    print(\"The code uses a GPU\")\n",
    "\n"
   ]
  },
  {
   "cell_type": "code",
   "execution_count": 2,
   "metadata": {},
   "outputs": [
    {
     "name": "stdout",
     "output_type": "stream",
     "text": [
      "vocab_size:  2516\n"
     ]
    }
   ],
   "source": [
    "vocab_size = vocab.vocab_size\n",
    "dim_emb = 100\n",
    "hidden_size = 500\n",
    "num_layers = 5\n",
    "limit = 100\n",
    "\n",
    "print(\"vocab_size: \", vocab_size)\n",
    "\n",
    "model = LSTM_LM(vocab_size, dim_emb, hidden_size, num_layers, limit, device).to(device)\n",
    "\n"
   ]
  },
  {
   "cell_type": "code",
   "execution_count": 3,
   "metadata": {},
   "outputs": [
    {
     "data": {
      "text/plain": [
       "' epochs = 5000\\nlr = 0.005\\nbatch_size = 16\\n\\noptimizer = torch.optim.Adam(model.parameters(), lr=lr)\\n\\nlog_path = \"log/log.txt\"\\nmodel_path = \"model/model.pt\"\\n\\nmodel.load(model_path + f\"_{epochs}\")\\n\\nwith open(log_path, \\'w\\', encoding=\\'utf-8\\') as f:\\n    for epoch in range(3 * epochs):\\n        batch = make_batch(data_set, batch_size, vocab).to(device)\\n        out = model(batch)\\n        loss = model.loss(out)\\n\\n        optimizer.zero_grad()\\n        loss.backward()\\n\\n        optimizer.step()\\n\\n        if (epoch + 1) % 10 == 0:\\n            print(\\'Epoch:\\', \\'%04d\\' % (epoch + 1), \\'loss =\\', \\'{:.6f}\\'.format(loss))\\n            f.write(\\'Epoch: {:04d} loss = {:.6f}\\n\\'.format(epoch + 1, loss))\\n        \\n        if (epoch + 1) % 1000 == 0:\\n            model.save(model_path + f\"_{epochs + epoch + 1}\")\\n\\nmodel.save(model_path + f\"_{3 * epochs}\")\\n\\ndel model\\n '"
      ]
     },
     "execution_count": 3,
     "metadata": {},
     "output_type": "execute_result"
    }
   ],
   "source": [
    "\"\"\" epochs = 5000\n",
    "lr = 0.005\n",
    "batch_size = 16\n",
    "\n",
    "optimizer = torch.optim.Adam(model.parameters(), lr=lr)\n",
    "\n",
    "log_path = \"log/log.txt\"\n",
    "model_path = \"model/model.pt\"\n",
    "\n",
    "model.load(model_path + f\"_{epochs}\")\n",
    "\n",
    "with open(log_path, 'w', encoding='utf-8') as f:\n",
    "    for epoch in range(3 * epochs):\n",
    "        batch = make_batch(data_set, batch_size, vocab).to(device)\n",
    "        out = model(batch)\n",
    "        loss = model.loss(out)\n",
    "\n",
    "        optimizer.zero_grad()\n",
    "        loss.backward()\n",
    "\n",
    "        optimizer.step()\n",
    "\n",
    "        if (epoch + 1) % 10 == 0:\n",
    "            print('Epoch:', '%04d' % (epoch + 1), 'loss =', '{:.6f}'.format(loss))\n",
    "            f.write('Epoch: {:04d} loss = {:.6f}\\n'.format(epoch + 1, loss))\n",
    "        \n",
    "        if (epoch + 1) % 1000 == 0:\n",
    "            model.save(model_path + f\"_{epochs + epoch + 1}\")\n",
    "\n",
    "model.save(model_path + f\"_{3 * epochs}\")\n",
    "\n",
    "del model\n",
    " \"\"\"\n"
   ]
  },
  {
   "cell_type": "code",
   "execution_count": 8,
   "metadata": {},
   "outputs": [
    {
     "name": "stdout",
     "output_type": "stream",
     "text": [
      "perplexity: 1.0065230131149292\n",
      "[1190, 1190, 921, 1985, 1197, 1521, 2513, 300, 1127, 808]\n",
      "水水接西江眺，半棹恨\n"
     ]
    }
   ],
   "source": [
    "result_path = \"result/result.txt\"\n",
    "f = open(result_path, 'w', encoding='utf-8')\n",
    "\n",
    "model_path = \"model/model.pt\"\n",
    "\n",
    "model = LSTM_LM(vocab_size, dim_emb, hidden_size, num_layers, limit, device).to(device)\n",
    "model.load(model_path + \"_20000\")\n",
    "\n",
    "test_batch = make_batch(data_set, 32, vocab).to(device)\n",
    "perplexity = model.calculate_perplexity(test_batch).item()\n",
    "print('perplexity:', perplexity)\n",
    "\n",
    "start = \"水\"\n",
    "start = vocab.word2id[start]\n",
    "\n",
    "output = model.generate(start, 10)\n",
    "for i in output:\n",
    "    f.write(f\"{i}, \")\n",
    "print(output)\n",
    "output = vocab.ids2sentence(output)\n",
    "f.write(output)\n",
    "print(output)\n",
    "\n"
   ]
  }
 ],
 "metadata": {
  "kernelspec": {
   "display_name": "base",
   "language": "python",
   "name": "python3"
  },
  "language_info": {
   "codemirror_mode": {
    "name": "ipython",
    "version": 3
   },
   "file_extension": ".py",
   "mimetype": "text/x-python",
   "name": "python",
   "nbconvert_exporter": "python",
   "pygments_lexer": "ipython3",
   "version": "3.11.5"
  }
 },
 "nbformat": 4,
 "nbformat_minor": 2
}
