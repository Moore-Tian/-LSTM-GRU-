{
 "cells": [
  {
   "cell_type": "code",
   "execution_count": 1,
   "metadata": {},
   "outputs": [
    {
     "name": "stdout",
     "output_type": "stream",
     "text": [
      "The code uses a GPU\n"
     ]
    }
   ],
   "source": [
    "import torch\n",
    "import torch.nn\n",
    "from modle import *\n",
    "from utils import *\n",
    "from vocab import *\n",
    "\n",
    "file_path = \"dataset/poetryFromTang.txt\"\n",
    "\n",
    "char_list = get_dataset(file_path)\n",
    "\n",
    "vocab = Vocab(char_list)\n",
    "\n",
    "data_set = data_process(file_path, vocab)\n",
    "\n",
    "if torch.cuda.is_available():\n",
    "    device = torch.device(\"cuda\")\n",
    "    print(\"The code uses a GPU\")\n",
    "\n"
   ]
  },
  {
   "cell_type": "code",
   "execution_count": 2,
   "metadata": {},
   "outputs": [
    {
     "name": "stdout",
     "output_type": "stream",
     "text": [
      "vocab_size:  2516\n"
     ]
    }
   ],
   "source": [
    "vocab_size = vocab.vocab_size\n",
    "dim_emb = 100\n",
    "hidden_size = 500\n",
    "num_layers = 5\n",
    "limit = 100\n",
    "\n",
    "print(\"vocab_size: \", vocab_size)\n",
    "\n",
    "model = LSTM_LM(vocab_size, dim_emb, hidden_size, num_layers, limit, device).to(device)\n",
    "\n"
   ]
  },
  {
   "cell_type": "code",
   "execution_count": 3,
   "metadata": {},
   "outputs": [
    {
     "name": "stdout",
     "output_type": "stream",
     "text": [
      "Epoch: 0010 loss = 833.282227\n",
      "Epoch: 0020 loss = 1404.777954\n",
      "Epoch: 0030 loss = 1308.565918\n",
      "Epoch: 0040 loss = 558.745850\n",
      "Epoch: 0050 loss = 1140.095581\n",
      "Epoch: 0060 loss = 859.343384\n",
      "Epoch: 0070 loss = 478.328186\n",
      "Epoch: 0080 loss = 600.915039\n",
      "Epoch: 0090 loss = 1025.944824\n",
      "Epoch: 0100 loss = 1079.174438\n",
      "Epoch: 0110 loss = 647.812744\n",
      "Epoch: 0120 loss = 456.375824\n",
      "Epoch: 0130 loss = 713.980835\n",
      "Epoch: 0140 loss = 452.305603\n",
      "Epoch: 0150 loss = 387.485229\n",
      "Epoch: 0160 loss = 782.307678\n",
      "Epoch: 0170 loss = 424.536530\n",
      "Epoch: 0180 loss = 656.626648\n",
      "Epoch: 0190 loss = 627.719360\n",
      "Epoch: 0200 loss = 809.215454\n",
      "Epoch: 0210 loss = 1048.847168\n",
      "Epoch: 0220 loss = 1078.733765\n",
      "Epoch: 0230 loss = 732.443481\n",
      "Epoch: 0240 loss = 425.208435\n",
      "Epoch: 0250 loss = 865.264404\n",
      "Epoch: 0260 loss = 534.301270\n",
      "Epoch: 0270 loss = 622.258179\n",
      "Epoch: 0280 loss = 593.671143\n",
      "Epoch: 0290 loss = 654.651611\n",
      "Epoch: 0300 loss = 488.228882\n",
      "Epoch: 0310 loss = 557.499329\n",
      "Epoch: 0320 loss = 395.005371\n",
      "Epoch: 0330 loss = 908.075195\n",
      "Epoch: 0340 loss = 448.345245\n",
      "Epoch: 0350 loss = 1018.405701\n",
      "Epoch: 0360 loss = 449.916931\n",
      "Epoch: 0370 loss = 742.269592\n",
      "Epoch: 0380 loss = 468.458466\n",
      "Epoch: 0390 loss = 523.875977\n",
      "Epoch: 0400 loss = 347.634216\n",
      "Epoch: 0410 loss = 1049.947998\n",
      "Epoch: 0420 loss = 1059.912354\n",
      "Epoch: 0430 loss = 385.833435\n",
      "Epoch: 0440 loss = 486.099976\n",
      "Epoch: 0450 loss = 444.034241\n",
      "Epoch: 0460 loss = 503.792175\n",
      "Epoch: 0470 loss = 582.278442\n",
      "Epoch: 0480 loss = 440.150177\n",
      "Epoch: 0490 loss = 414.054352\n",
      "Epoch: 0500 loss = 515.136230\n",
      "Epoch: 0510 loss = 636.200806\n",
      "Epoch: 0520 loss = 638.529419\n",
      "Epoch: 0530 loss = 312.560059\n",
      "Epoch: 0540 loss = 765.865112\n",
      "Epoch: 0550 loss = 734.504272\n",
      "Epoch: 0560 loss = 321.259766\n",
      "Epoch: 0570 loss = 1254.714478\n",
      "Epoch: 0580 loss = 433.762604\n",
      "Epoch: 0590 loss = 444.567535\n",
      "Epoch: 0600 loss = 411.006348\n",
      "Epoch: 0610 loss = 346.064209\n",
      "Epoch: 0620 loss = 336.060486\n",
      "Epoch: 0630 loss = 447.570862\n",
      "Epoch: 0640 loss = 478.706848\n",
      "Epoch: 0650 loss = 626.589844\n",
      "Epoch: 0660 loss = 433.937439\n",
      "Epoch: 0670 loss = 439.575836\n",
      "Epoch: 0680 loss = 469.682495\n",
      "Epoch: 0690 loss = 432.027649\n",
      "Epoch: 0700 loss = 333.055176\n",
      "Epoch: 0710 loss = 306.031006\n",
      "Epoch: 0720 loss = 283.961731\n",
      "Epoch: 0730 loss = 213.402313\n",
      "Epoch: 0740 loss = 351.020294\n",
      "Epoch: 0750 loss = 426.335510\n",
      "Epoch: 0760 loss = 390.199768\n",
      "Epoch: 0770 loss = 348.378723\n",
      "Epoch: 0780 loss = 294.338501\n",
      "Epoch: 0790 loss = 371.957581\n",
      "Epoch: 0800 loss = 296.350952\n",
      "Epoch: 0810 loss = 691.700073\n",
      "Epoch: 0820 loss = 398.435730\n",
      "Epoch: 0830 loss = 436.390503\n",
      "Epoch: 0840 loss = 674.343323\n",
      "Epoch: 0850 loss = 870.668213\n",
      "Epoch: 0860 loss = 355.721863\n",
      "Epoch: 0870 loss = 446.712097\n",
      "Epoch: 0880 loss = 307.652557\n",
      "Epoch: 0890 loss = 357.092468\n",
      "Epoch: 0900 loss = 515.425537\n",
      "Epoch: 0910 loss = 217.875870\n",
      "Epoch: 0920 loss = 182.777985\n",
      "Epoch: 0930 loss = 306.874756\n",
      "Epoch: 0940 loss = 247.063919\n",
      "Epoch: 0950 loss = 363.536560\n",
      "Epoch: 0960 loss = 226.069473\n",
      "Epoch: 0970 loss = 395.737640\n",
      "Epoch: 0980 loss = 292.254486\n",
      "Epoch: 0990 loss = 358.982422\n",
      "Epoch: 1000 loss = 471.596954\n"
     ]
    }
   ],
   "source": [
    "epochs = 1000\n",
    "lr = 0.005\n",
    "batch_size = 16\n",
    "\n",
    "optimizer = torch.optim.Adam(model.parameters(), lr=lr)\n",
    "\n",
    "for epoch in range(epochs):\n",
    "    batch = make_batch(data_set, batch_size, vocab).to(device)\n",
    "    out = model(batch)\n",
    "    loss = model.loss(out)\n",
    "\n",
    "    optimizer.zero_grad()\n",
    "    loss.backward()\n",
    "\n",
    "    optimizer.step()\n",
    "\n",
    "    if (epoch + 1) % 10 == 0:\n",
    "        print('Epoch:', '%04d' % (epoch + 1), 'loss =', '{:.6f}'.format(loss))"
   ]
  },
  {
   "cell_type": "code",
   "execution_count": null,
   "metadata": {},
   "outputs": [],
   "source": []
  }
 ],
 "metadata": {
  "kernelspec": {
   "display_name": "Python 3",
   "language": "python",
   "name": "python3"
  },
  "language_info": {
   "codemirror_mode": {
    "name": "ipython",
    "version": 3
   },
   "file_extension": ".py",
   "mimetype": "text/x-python",
   "name": "python",
   "nbconvert_exporter": "python",
   "pygments_lexer": "ipython3",
   "version": "3.11.5"
  }
 },
 "nbformat": 4,
 "nbformat_minor": 2
}
