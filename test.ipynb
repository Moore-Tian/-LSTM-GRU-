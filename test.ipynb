{
 "cells": [
  {
   "cell_type": "code",
   "execution_count": 2,
   "metadata": {},
   "outputs": [],
   "source": [
    "import torch\n",
    "import torch.nn\n",
    "from modle import *\n",
    "from utils import *\n",
    "from vocab import *\n",
    "\n",
    "file_path = \"dataset/poetryFromTang.txt\"\n",
    "\n",
    "char_list = get_dataset(file_path)\n",
    "\n",
    "vocab = Vocab(char_list)\n",
    "\n",
    "data_set = data_process(file_path, vocab)\n",
    "\n"
   ]
  },
  {
   "cell_type": "code",
   "execution_count": null,
   "metadata": {},
   "outputs": [],
   "source": [
    "vocab_size = vocab.vocab_size\n",
    "dim_emb = 100\n",
    "hidden_size = 500\n",
    "num_layers = 5\n",
    "limit = 100\n",
    "\n",
    "model = LSTM_LM(vocab_size, dim_emb, hidden_size, num_layers, limit)\n",
    "\n"
   ]
  }
 ],
 "metadata": {
  "kernelspec": {
   "display_name": "Python 3",
   "language": "python",
   "name": "python3"
  },
  "language_info": {
   "codemirror_mode": {
    "name": "ipython",
    "version": 3
   },
   "file_extension": ".py",
   "mimetype": "text/x-python",
   "name": "python",
   "nbconvert_exporter": "python",
   "pygments_lexer": "ipython3",
   "version": "3.11.5"
  }
 },
 "nbformat": 4,
 "nbformat_minor": 2
}
